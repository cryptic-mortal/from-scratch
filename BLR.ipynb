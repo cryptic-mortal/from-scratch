{
 "cells": [
  {
   "cell_type": "code",
   "execution_count": 1,
   "id": "b0b3f8f8-dc22-4149-a9a4-7b5465d3885b",
   "metadata": {},
   "outputs": [],
   "source": [
    "import pandas as pd\n",
    "import numpy as np\n",
    "import matplotlib.pyplot as plt\n",
    "import seaborn as sns"
   ]
  },
  {
   "cell_type": "code",
   "execution_count": null,
   "id": "7934769d-477e-42ce-92a6-3bd21ac3f37f",
   "metadata": {},
   "outputs": [],
   "source": [
    "class BinaryLogisticRegression():\n",
    "    def __init__(self, learning_rate = 0.1, iterations = 100, verbose = False) :\n",
    "        self.learning_rate = learning_rate\n",
    "        self.iterations = iterations\n",
    "        self.verbose = verbose\n",
    "        self.loss_history = []\n",
    "        self.W = None\n",
    "        self.b = None\n",
    "        self.W_history = []\n",
    "        self.b_history = []\n",
    "        \n",
    "    def sigmoid(self,z) :\n",
    "        return 1/(1+np.exp(-z))\n",
    "\n",
    "    def fit(self, X, Y) :\n",
    "        \n",
    "    def compute_loss(self, Y_pred, Y) :\n",
    "        Y_pred = np.clip(Y_pred, 1e-15, 1 - 1e-15)\n",
    "        loss = Y*np.log(Y_pred) + (1-Y)*np.log(1-Y_pred)\n",
    "        cost = -np.mean(loss)\n",
    "        return cost\n",
    "\n",
    "    def compute_grad(self, X, Y_pred, Y) :\n",
    "        dJ_dw = (X.T @ (Y_pred - Y))/self.n\n",
    "        dJ_db = np.mean(Y_pred - Y)\n",
    "        return dJ_dw, dJ_db"
   ]
  },
  {
   "cell_type": "code",
   "execution_count": null,
   "id": "d80993f3-bcf6-452a-a91d-cb56a8758e59",
   "metadata": {},
   "outputs": [],
   "source": []
  }
 ],
 "metadata": {
  "kernelspec": {
   "display_name": "Python [conda env:base] *",
   "language": "python",
   "name": "conda-base-py"
  },
  "language_info": {
   "codemirror_mode": {
    "name": "ipython",
    "version": 3
   },
   "file_extension": ".py",
   "mimetype": "text/x-python",
   "name": "python",
   "nbconvert_exporter": "python",
   "pygments_lexer": "ipython3",
   "version": "3.12.7"
  }
 },
 "nbformat": 4,
 "nbformat_minor": 5
}
